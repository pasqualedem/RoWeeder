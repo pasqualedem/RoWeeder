{
 "cells": [
  {
   "cell_type": "code",
   "execution_count": 104,
   "metadata": {
    "pycharm": {
     "name": "#%%\n"
    }
   },
   "outputs": [],
   "source": [
    "from clearml import Dataset\n",
    "from IPython.display import display, HTML\n",
    "\n",
    "import os\n",
    "import string\n",
    "import pandas as pd\n",
    "import matplotlib.pyplot as plt\n",
    "import matplotlib.image as mpimg\n",
    "import ipywidgets as widgets\n",
    "\n",
    "%matplotlib inline"
   ]
  },
  {
   "cell_type": "code",
   "execution_count": 105,
   "metadata": {
    "pycharm": {
     "name": "#%%\n"
    }
   },
   "outputs": [],
   "source": [
    "name = \"SpringWheatCropRows\""
   ]
  },
  {
   "cell_type": "code",
   "execution_count": 106,
   "metadata": {
    "pycharm": {
     "name": "#%%\n"
    }
   },
   "outputs": [],
   "source": [
    "dataset = Dataset.get(dataset_name=name)"
   ]
  },
  {
   "cell_type": "code",
   "execution_count": 107,
   "metadata": {
    "pycharm": {
     "name": "#%%\n"
    }
   },
   "outputs": [],
   "source": [
    "versions = map(lambda x: x['id'], Dataset.list_datasets(partial_name=name))\n",
    "datasets = list(map(lambda id: Dataset.get(dataset_id=id), versions))"
   ]
  },
  {
   "cell_type": "code",
   "execution_count": 108,
   "metadata": {
    "pycharm": {
     "name": "#%%\n"
    }
   },
   "outputs": [],
   "source": [
    "datasets_dict = list(map(lambda x: {'dataset': x, 'path': x.get_local_copy()}, datasets))"
   ]
  },
  {
   "cell_type": "code",
   "execution_count": 109,
   "metadata": {
    "pycharm": {
     "name": "#%%\n"
    }
   },
   "outputs": [
    {
     "data": {
      "text/plain": [
       "[{'dataset': <clearml.datasets.dataset.Dataset at 0x24b8c04e100>,\n",
       "  'path': 'C:/Users/pasqu/.clearml/cache/storage_manager/datasets/ds_d4b62bf35cd64812988abcdef455da10'},\n",
       " {'dataset': <clearml.datasets.dataset.Dataset at 0x24bfb1a0190>,\n",
       "  'path': 'C:/Users/pasqu/.clearml/cache/storage_manager/datasets/ds_d5a5a2ce11c744a0a1c6010aaf306335'},\n",
       " {'dataset': <clearml.datasets.dataset.Dataset at 0x24bdec71a30>,\n",
       "  'path': 'C:/Users/pasqu/.clearml/cache/storage_manager/datasets/ds_9b51dcf83e834ea6b8f2489d469877fb'},\n",
       " {'dataset': <clearml.datasets.dataset.Dataset at 0x24bfb276160>,\n",
       "  'path': 'C:/Users/pasqu/.clearml/cache/storage_manager/datasets/ds_a9d65c10042f4948814257b83084df55'}]"
      ]
     },
     "execution_count": 109,
     "metadata": {},
     "output_type": "execute_result"
    }
   ],
   "source": [
    "datasets_dict"
   ]
  },
  {
   "cell_type": "code",
   "execution_count": 9,
   "metadata": {
    "pycharm": {
     "name": "#%%\n"
    }
   },
   "outputs": [],
   "source": [
    "files = set(map(lambda x: x.split('.')[0].removesuffix('_mask'), os.listdir(datasets_dict[0]['path'])))\n",
    "images = list(map(lambda x: x + '.JPG', files))\n",
    "masks = list(map(lambda x: x + '_mask.png', files))"
   ]
  },
  {
   "cell_type": "code",
   "execution_count": 10,
   "metadata": {
    "pycharm": {
     "name": "#%%\n"
    }
   },
   "outputs": [],
   "source": [
    "def path_to_image_html(path):\n",
    "    '''\n",
    "     This function essentially convert the image url to\n",
    "     '<img src=\"'+ path + '\"/>' format. And one can put any\n",
    "     formatting adjustments to control the height, aspect ratio, size etc.\n",
    "     within as in the below example.\n",
    "    '''\n",
    "    return '<img src=\"'+ path + '\" style=max-height:124px;\"/>'\n",
    "\n",
    "def show_im():\n",
    "    CSS = \"\"\"\n",
    "    .output {\n",
    "        flex-direction: row;\n",
    "    }\n",
    "    \"\"\"\n",
    "    HTML('<style>{}</style>'.format(CSS))\n",
    "\n",
    "def image_viewer(image_grid, grid_length, grid_width):\n",
    "    image_grid = image_grid.values #turn into matrix for reshaping\n",
    "    image_grid = image_grid.reshape(grid_length, grid_width)\n",
    "    image_grid = pd.DataFrame(image_grid)\n",
    "    image_grid.columns =    list(string.ascii_lowercase[:len(image_grid.columns)])\n",
    "    image_grid_html = HTML(image_grid.to_html(escape=False ,formatters=dict(a=path_to_image_html,\n",
    "                                                        b=path_to_image_html)))\n",
    "    display(image_grid_html)\n",
    "    show_im()"
   ]
  },
  {
   "cell_type": "code",
   "execution_count": null,
   "metadata": {},
   "outputs": [],
   "source": []
  },
  {
   "cell_type": "code",
   "execution_count": 11,
   "metadata": {
    "pycharm": {
     "name": "#%%\n"
    }
   },
   "outputs": [],
   "source": [
    "from ipywidgets import interact\n",
    "\n",
    "\n",
    "def browse_images():\n",
    "    n = len(images)\n",
    "    def show_grid(i):\n",
    "        fig, axs = plt.subplots(len(datasets_dict), 2)\n",
    "        fig.set_figheight(8 * len(datasets_dict))\n",
    "        fig.set_figwidth(15)\n",
    "        for j, row in enumerate(axs):\n",
    "            img = mpimg.imread(os.path.join(datasets_dict[j]['path'], images[i]))\n",
    "            mask = mpimg.imread(os.path.join(datasets_dict[j]['path'], masks[i]))\n",
    "            row[0].imshow(img)\n",
    "            row[0].set_title(datasets_dict[j]['dataset'].version)\n",
    "            row[1].imshow(mask)\n",
    "        fig.suptitle(images[i])\n",
    "#     def show_grid(i):\n",
    "#         paths = []\n",
    "#         for j in range(len(datasets_dict)):\n",
    "#             img = os.path.join(datasets_dict[j]['path'], images[i])\n",
    "#             mask = os.path.join(datasets_dict[j]['path'], masks[i])\n",
    "#             paths.append(img)\n",
    "#             paths.append(mask)\n",
    "#         print(paths)\n",
    "#         image_viewer(pd.DataFrame(paths), len(datasets_dict), 2)\n",
    "    interact(show_grid, i=(0,n-1))"
   ]
  },
  {
   "cell_type": "code",
   "execution_count": 12,
   "metadata": {
    "pycharm": {
     "name": "#%%\n"
    },
    "scrolled": true
   },
   "outputs": [
    {
     "data": {
      "application/vnd.jupyter.widget-view+json": {
       "model_id": "dd8f69eb44464e97854f4e768ab41881",
       "version_major": 2,
       "version_minor": 0
      },
      "text/plain": [
       "interactive(children=(IntSlider(value=2024, description='i', max=4049), Output()), _dom_classes=('widget-inter…"
      ]
     },
     "metadata": {},
     "output_type": "display_data"
    }
   ],
   "source": [
    "browse_images()"
   ]
  },
  {
   "cell_type": "code",
   "execution_count": null,
   "metadata": {
    "pycharm": {
     "name": "#%%\n"
    }
   },
   "outputs": [],
   "source": [
    "n = len(images)\n",
    "i = 0\n",
    "\n",
    "def show_grid(i):\n",
    "    fig, axs = plt.subplots(len(datasets_dict), 2)\n",
    "    fig.set_figheight(8 * len(datasets_dict))\n",
    "    fig.set_figwidth(15)\n",
    "    for j, row in enumerate(axs):\n",
    "        img = mpimg.imread(os.path.join(datasets_dict[j]['path'], images[i]))\n",
    "        mask = mpimg.imread(os.path.join(datasets_dict[j]['path'], masks[i]))\n",
    "        row[0].imshow(img)\n",
    "        row[0].set_title(datasets_dict[j]['dataset'].version)\n",
    "        row[1].imshow(mask)\n",
    "    fig.suptitle(images[i])\n",
    "\n",
    "def cprevious(x):\n",
    "    i -= 1\n",
    "    show_grid(i)\n",
    "\n",
    "def cnext(x):\n",
    "    i += 1\n",
    "    show_grid(i)\n",
    "\n",
    "bprevious = widgets.Button(description=\"previous\")\n",
    "bnext = widgets.Button(description=\"next\")\n",
    "bprevious.on_click(cprevious)\n",
    "bnext.on_click(cnext)\n",
    "    \n",
    "\n",
    "items = [bprevious, bnext]\n",
    "widgets.Box(items)"
   ]
  },
  {
   "cell_type": "code",
   "execution_count": 158,
   "metadata": {
    "pycharm": {
     "name": "#%%\n"
    }
   },
   "outputs": [
    {
     "data": {
      "application/vnd.jupyter.widget-view+json": {
       "model_id": "003c9b59582b42bf9d0bc32d038c5812",
       "version_major": 2,
       "version_minor": 0
      },
      "text/plain": [
       "Box(children=(Button(description='previous', style=ButtonStyle()), Button(description='next', style=ButtonStyl…"
      ]
     },
     "execution_count": 158,
     "metadata": {},
     "output_type": "execute_result"
    },
    {
     "ename": "UnboundLocalError",
     "evalue": "local variable 'i' referenced before assignment",
     "output_type": "error",
     "traceback": [
      "\u001b[1;31m---------------------------------------------------------------------------\u001b[0m",
      "\u001b[1;31mUnboundLocalError\u001b[0m                         Traceback (most recent call last)",
      "Cell \u001b[1;32mIn [158], line 21\u001b[0m, in \u001b[0;36mcnext\u001b[1;34m(x)\u001b[0m\n\u001b[0;32m     20\u001b[0m \u001b[38;5;28;01mdef\u001b[39;00m \u001b[38;5;21mcnext\u001b[39m(x):\n\u001b[1;32m---> 21\u001b[0m     i \u001b[38;5;241m+\u001b[39m\u001b[38;5;241m=\u001b[39m \u001b[38;5;241m1\u001b[39m\n\u001b[0;32m     22\u001b[0m     show_grid(i)\n",
      "\u001b[1;31mUnboundLocalError\u001b[0m: local variable 'i' referenced before assignment"
     ]
    },
    {
     "ename": "UnboundLocalError",
     "evalue": "local variable 'i' referenced before assignment",
     "output_type": "error",
     "traceback": [
      "\u001b[1;31m---------------------------------------------------------------------------\u001b[0m",
      "\u001b[1;31mUnboundLocalError\u001b[0m                         Traceback (most recent call last)",
      "Cell \u001b[1;32mIn [158], line 17\u001b[0m, in \u001b[0;36mcprevious\u001b[1;34m(x)\u001b[0m\n\u001b[0;32m     16\u001b[0m \u001b[38;5;28;01mdef\u001b[39;00m \u001b[38;5;21mcprevious\u001b[39m(x):\n\u001b[1;32m---> 17\u001b[0m     i \u001b[38;5;241m-\u001b[39m\u001b[38;5;241m=\u001b[39m \u001b[38;5;241m1\u001b[39m\n\u001b[0;32m     18\u001b[0m     show_grid(i)\n",
      "\u001b[1;31mUnboundLocalError\u001b[0m: local variable 'i' referenced before assignment"
     ]
    },
    {
     "ename": "UnboundLocalError",
     "evalue": "local variable 'i' referenced before assignment",
     "output_type": "error",
     "traceback": [
      "\u001b[1;31m---------------------------------------------------------------------------\u001b[0m",
      "\u001b[1;31mUnboundLocalError\u001b[0m                         Traceback (most recent call last)",
      "Cell \u001b[1;32mIn [158], line 17\u001b[0m, in \u001b[0;36mcprevious\u001b[1;34m(x)\u001b[0m\n\u001b[0;32m     16\u001b[0m \u001b[38;5;28;01mdef\u001b[39;00m \u001b[38;5;21mcprevious\u001b[39m(x):\n\u001b[1;32m---> 17\u001b[0m     i \u001b[38;5;241m-\u001b[39m\u001b[38;5;241m=\u001b[39m \u001b[38;5;241m1\u001b[39m\n\u001b[0;32m     18\u001b[0m     show_grid(i)\n",
      "\u001b[1;31mUnboundLocalError\u001b[0m: local variable 'i' referenced before assignment"
     ]
    }
   ],
   "source": [
    "n = len(images)\n",
    "i = 0\n",
    "\n",
    "def show_grid(i):\n",
    "    fig, axs = plt.subplots(len(datasets_dict), 2)\n",
    "    fig.set_figheight(8 * len(datasets_dict))\n",
    "    fig.set_figwidth(15)\n",
    "    for j, row in enumerate(axs):\n",
    "        img = mpimg.imread(os.path.join(datasets_dict[j]['path'], images[i]))\n",
    "        mask = mpimg.imread(os.path.join(datasets_dict[j]['path'], masks[i]))\n",
    "        row[0].imshow(img)\n",
    "        row[0].set_title(datasets_dict[j]['dataset'].version)\n",
    "        row[1].imshow(mask)\n",
    "    fig.suptitle(images[i])\n",
    "\n",
    "def cprevious(x):\n",
    "    i -= 1\n",
    "    show_grid(i)\n",
    "\n",
    "def cnext(x):\n",
    "    i += 1\n",
    "    show_grid(i)\n",
    "\n",
    "bprevious = widgets.Button(description=\"previous\")\n",
    "bnext = widgets.Button(description=\"next\")\n",
    "bprevious.on_click(cprevious)\n",
    "bnext.on_click(cnext)\n",
    "    \n",
    "\n",
    "items = [bprevious, bnext]\n",
    "widgets.Box(items)"
   ]
  },
  {
   "cell_type": "code",
   "execution_count": null,
   "metadata": {},
   "outputs": [],
   "source": []
  }
 ],
 "metadata": {
  "kernelspec": {
   "display_name": "Python 3 (ipykernel)",
   "language": "python",
   "name": "python3"
  },
  "language_info": {
   "codemirror_mode": {
    "name": "ipython",
    "version": 3
   },
   "file_extension": ".py",
   "mimetype": "text/x-python",
   "name": "python",
   "nbconvert_exporter": "python",
   "pygments_lexer": "ipython3",
   "version": "3.9.13"
  }
 },
 "nbformat": 4,
 "nbformat_minor": 1
}
